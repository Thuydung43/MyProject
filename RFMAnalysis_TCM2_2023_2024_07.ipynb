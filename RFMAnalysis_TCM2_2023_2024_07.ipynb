{
 "cells": [
  {
   "cell_type": "code",
   "execution_count": 110,
   "metadata": {},
   "outputs": [],
   "source": [
    "import pandas as pd\n",
    "import math\n",
    "import numpy as np\n",
    "import matplotlib.pyplot as plt\n",
    "import seaborn as sns\n",
    "%matplotlib inline\n",
    "\n",
    "from datetime import datetime, date\n",
    "plt.style.use('ggplot')"
   ]
  },
  {
   "cell_type": "code",
   "execution_count": 39,
   "metadata": {},
   "outputs": [
    {
     "name": "stderr",
     "output_type": "stream",
     "text": [
      "C:\\Users\\Admin\\AppData\\Local\\Temp\\ipykernel_35424\\1024121818.py:3: DtypeWarning: Columns (17) have mixed types. Specify dtype option on import or set low_memory=False.\n",
      "  TCM2 = pd.read_csv('TCM2_Cleaned.csv')\n"
     ]
    }
   ],
   "source": [
    "# Loading the  Datasets\n",
    "\n",
    "TCM2 = pd.read_csv('TCM2_Cleaned.csv')\n"
   ]
  },
  {
   "cell_type": "code",
   "execution_count": 40,
   "metadata": {},
   "outputs": [
    {
     "data": {
      "text/html": [
       "<div>\n",
       "<style scoped>\n",
       "    .dataframe tbody tr th:only-of-type {\n",
       "        vertical-align: middle;\n",
       "    }\n",
       "\n",
       "    .dataframe tbody tr th {\n",
       "        vertical-align: top;\n",
       "    }\n",
       "\n",
       "    .dataframe thead th {\n",
       "        text-align: right;\n",
       "    }\n",
       "</style>\n",
       "<table border=\"1\" class=\"dataframe\">\n",
       "  <thead>\n",
       "    <tr style=\"text-align: right;\">\n",
       "      <th></th>\n",
       "      <th>No.</th>\n",
       "      <th>Order_date</th>\n",
       "      <th>Create_date</th>\n",
       "      <th>Order_code</th>\n",
       "      <th>Executor</th>\n",
       "      <th>Customer_code</th>\n",
       "      <th>Customer_name</th>\n",
       "      <th>Year_of_Birth</th>\n",
       "      <th>Age</th>\n",
       "      <th>Phone_number</th>\n",
       "      <th>...</th>\n",
       "      <th>Order_terms</th>\n",
       "      <th>Payment_method</th>\n",
       "      <th>Payment_method_each_time</th>\n",
       "      <th>Payment date</th>\n",
       "      <th>Order source</th>\n",
       "      <th>Creator</th>\n",
       "      <th>Order_type</th>\n",
       "      <th>Order_#1</th>\n",
       "      <th>Customer_transfers</th>\n",
       "      <th>Customer_collects_CODE</th>\n",
       "    </tr>\n",
       "  </thead>\n",
       "  <tbody>\n",
       "    <tr>\n",
       "      <th>0</th>\n",
       "      <td>1</td>\n",
       "      <td>31/07/2024</td>\n",
       "      <td>31/07/2024</td>\n",
       "      <td>DH26827</td>\n",
       "      <td>Diệu My</td>\n",
       "      <td>KH17171</td>\n",
       "      <td>KH 17171 Mai Thị Thanh Huyền 1998(ĐNBT,TTY)</td>\n",
       "      <td>1998.0</td>\n",
       "      <td>26.0</td>\n",
       "      <td>965260898</td>\n",
       "      <td>...</td>\n",
       "      <td>Thời gian giao hàng: \\nĐịa điểm giao hàng:</td>\n",
       "      <td>Tiền mặt</td>\n",
       "      <td>Chuyển khoản</td>\n",
       "      <td>05/08/2024 00:00</td>\n",
       "      <td>CSKH - Khách mua thêm thuốc khác trong quá trì...</td>\n",
       "      <td>TCM2B Diệu My</td>\n",
       "      <td>Đơn lần 1</td>\n",
       "      <td>1.0</td>\n",
       "      <td>KHÔNG</td>\n",
       "      <td>CÓ</td>\n",
       "    </tr>\n",
       "    <tr>\n",
       "      <th>1</th>\n",
       "      <td>2</td>\n",
       "      <td>0</td>\n",
       "      <td>0</td>\n",
       "      <td>0</td>\n",
       "      <td>0</td>\n",
       "      <td>0</td>\n",
       "      <td>0</td>\n",
       "      <td>0.0</td>\n",
       "      <td>0.0</td>\n",
       "      <td>0</td>\n",
       "      <td>...</td>\n",
       "      <td>NaN</td>\n",
       "      <td>NaN</td>\n",
       "      <td>NaN</td>\n",
       "      <td>NaN</td>\n",
       "      <td>NaN</td>\n",
       "      <td>NaN</td>\n",
       "      <td>NaN</td>\n",
       "      <td>NaN</td>\n",
       "      <td>NaN</td>\n",
       "      <td>NaN</td>\n",
       "    </tr>\n",
       "    <tr>\n",
       "      <th>2</th>\n",
       "      <td>3</td>\n",
       "      <td>0</td>\n",
       "      <td>0</td>\n",
       "      <td>0</td>\n",
       "      <td>0</td>\n",
       "      <td>0</td>\n",
       "      <td>0</td>\n",
       "      <td>0.0</td>\n",
       "      <td>0.0</td>\n",
       "      <td>0</td>\n",
       "      <td>...</td>\n",
       "      <td>NaN</td>\n",
       "      <td>NaN</td>\n",
       "      <td>NaN</td>\n",
       "      <td>NaN</td>\n",
       "      <td>NaN</td>\n",
       "      <td>NaN</td>\n",
       "      <td>NaN</td>\n",
       "      <td>NaN</td>\n",
       "      <td>NaN</td>\n",
       "      <td>NaN</td>\n",
       "    </tr>\n",
       "    <tr>\n",
       "      <th>3</th>\n",
       "      <td>4</td>\n",
       "      <td>31/07/2024</td>\n",
       "      <td>31/07/2024</td>\n",
       "      <td>DH26826</td>\n",
       "      <td>Nguyễn Tường Vân</td>\n",
       "      <td>KH22024</td>\n",
       "      <td>Đỗ Quốc Vương</td>\n",
       "      <td>NaN</td>\n",
       "      <td>NaN</td>\n",
       "      <td>985969934</td>\n",
       "      <td>...</td>\n",
       "      <td>Thời gian giao hàng: \\nĐịa điểm giao hàng:</td>\n",
       "      <td>Tiền mặt</td>\n",
       "      <td>Chuyển khoản</td>\n",
       "      <td>05/08/2024 00:00</td>\n",
       "      <td>Tái đơn lần 2</td>\n",
       "      <td>TCM2C Tường Vân</td>\n",
       "      <td>Đơn lần 2</td>\n",
       "      <td>2.0</td>\n",
       "      <td>KHÔNG</td>\n",
       "      <td>CÓ</td>\n",
       "    </tr>\n",
       "    <tr>\n",
       "      <th>4</th>\n",
       "      <td>5</td>\n",
       "      <td>0</td>\n",
       "      <td>0</td>\n",
       "      <td>0</td>\n",
       "      <td>0</td>\n",
       "      <td>0</td>\n",
       "      <td>0</td>\n",
       "      <td>0.0</td>\n",
       "      <td>0.0</td>\n",
       "      <td>0</td>\n",
       "      <td>...</td>\n",
       "      <td>NaN</td>\n",
       "      <td>NaN</td>\n",
       "      <td>NaN</td>\n",
       "      <td>NaN</td>\n",
       "      <td>NaN</td>\n",
       "      <td>NaN</td>\n",
       "      <td>NaN</td>\n",
       "      <td>NaN</td>\n",
       "      <td>NaN</td>\n",
       "      <td>NaN</td>\n",
       "    </tr>\n",
       "  </tbody>\n",
       "</table>\n",
       "<p>5 rows × 54 columns</p>\n",
       "</div>"
      ],
      "text/plain": [
       "   No.  Order_date Create_date Order_code          Executor Customer_code  \\\n",
       "0    1  31/07/2024  31/07/2024    DH26827           Diệu My       KH17171   \n",
       "1    2           0           0          0                 0             0   \n",
       "2    3           0           0          0                 0             0   \n",
       "3    4  31/07/2024  31/07/2024    DH26826  Nguyễn Tường Vân       KH22024   \n",
       "4    5           0           0          0                 0             0   \n",
       "\n",
       "                                 Customer_name  Year_of_Birth   Age  \\\n",
       "0  KH 17171 Mai Thị Thanh Huyền 1998(ĐNBT,TTY)         1998.0  26.0   \n",
       "1                                            0            0.0   0.0   \n",
       "2                                            0            0.0   0.0   \n",
       "3                                Đỗ Quốc Vương            NaN   NaN   \n",
       "4                                            0            0.0   0.0   \n",
       "\n",
       "   Phone_number  ...                                 Order_terms  \\\n",
       "0     965260898  ...  Thời gian giao hàng: \\nĐịa điểm giao hàng:   \n",
       "1             0  ...                                         NaN   \n",
       "2             0  ...                                         NaN   \n",
       "3     985969934  ...  Thời gian giao hàng: \\nĐịa điểm giao hàng:   \n",
       "4             0  ...                                         NaN   \n",
       "\n",
       "  Payment_method Payment_method_each_time      Payment date  \\\n",
       "0       Tiền mặt             Chuyển khoản  05/08/2024 00:00   \n",
       "1            NaN                      NaN               NaN   \n",
       "2            NaN                      NaN               NaN   \n",
       "3       Tiền mặt             Chuyển khoản  05/08/2024 00:00   \n",
       "4            NaN                      NaN               NaN   \n",
       "\n",
       "                                        Order source          Creator  \\\n",
       "0  CSKH - Khách mua thêm thuốc khác trong quá trì...    TCM2B Diệu My   \n",
       "1                                                NaN              NaN   \n",
       "2                                                NaN              NaN   \n",
       "3                                      Tái đơn lần 2  TCM2C Tường Vân   \n",
       "4                                                NaN              NaN   \n",
       "\n",
       "  Order_type Order_#1  Customer_transfers Customer_collects_CODE  \n",
       "0  Đơn lần 1      1.0               KHÔNG                     CÓ  \n",
       "1        NaN      NaN                 NaN                    NaN  \n",
       "2        NaN      NaN                 NaN                    NaN  \n",
       "3  Đơn lần 2      2.0               KHÔNG                     CÓ  \n",
       "4        NaN      NaN                 NaN                    NaN  \n",
       "\n",
       "[5 rows x 54 columns]"
      ]
     },
     "execution_count": 40,
     "metadata": {},
     "output_type": "execute_result"
    }
   ],
   "source": [
    "TCM2.head(5)"
   ]
  },
  {
   "cell_type": "code",
   "execution_count": 6,
   "metadata": {},
   "outputs": [
    {
     "name": "stdout",
     "output_type": "stream",
     "text": [
      "Total records (rows) in the TCM2 Dataset : 87527\n",
      "Total features (columns) in the TCM2 Dataset : 54\n"
     ]
    }
   ],
   "source": [
    "print(\"Total records (rows) in the TCM2 Dataset : {}\".format(TCM2.shape[0]))\n",
    "print(\"Total features (columns) in the TCM2 Dataset : {}\".format(TCM2.shape[1]))"
   ]
  },
  {
   "cell_type": "markdown",
   "metadata": {},
   "source": [
    "1.RFM"
   ]
  },
  {
   "cell_type": "code",
   "execution_count": 10,
   "metadata": {},
   "outputs": [
    {
     "name": "stdout",
     "output_type": "stream",
     "text": [
      "2024-07-31 00:00:00\n"
     ]
    }
   ],
   "source": [
    " #Convert the column to datetime, coerce any errors (like invalid date formats)\n",
    "TCM2['Order_date'] = pd.to_datetime(TCM2['Order_date'], errors='coerce')\n",
    "\n",
    "# Drop any rows where the conversion to datetime failed (optional, based on your data handling strategy)\n",
    "TCM2 = TCM2.dropna(subset=['Order_date'])\n",
    "\n",
    "# Now, get the maximum date\n",
    "max_order_date = TCM2['Order_date'].max()\n",
    "print(max_order_date)\n"
   ]
  },
  {
   "cell_type": "code",
   "execution_count": 13,
   "metadata": {},
   "outputs": [
    {
     "data": {
      "text/plain": [
       "datetime.date(2024, 7, 31)"
      ]
     },
     "execution_count": 13,
     "metadata": {},
     "output_type": "execute_result"
    }
   ],
   "source": [
    "# Maximum Transaction Date or the latest transaction date.\n",
    "\n",
    "max_order_date = max(TCM2['Order_date']).date()\n",
    "max_order_date"
   ]
  },
  {
   "cell_type": "code",
   "execution_count": 15,
   "metadata": {},
   "outputs": [],
   "source": [
    "# Taking the last transaction date as a reference date for comparision and \n",
    "# finding the number of days between a transaction date and last transaction date to compute the recency.\n",
    "\n",
    "comparison_date = datetime.strptime(str(max_order_date), \"%Y-%m-%d\")"
   ]
  },
  {
   "cell_type": "code",
   "execution_count": 18,
   "metadata": {},
   "outputs": [
    {
     "name": "stdout",
     "output_type": "stream",
     "text": [
      "               Order_date  Product_code     Revenue\n",
      "Customer_code                                      \n",
      "KH 13921               64             2  17750000.0\n",
      "KH0213                329             2   8570000.0\n",
      "KH0224                 39             2   4870000.0\n",
      "KH0543                 25             1   9475000.0\n",
      "KH0703                345             2   7135000.0\n",
      "...                   ...           ...         ...\n",
      "KH9983                385             1   3290000.0\n",
      "KH9985                308             3   3040000.0\n",
      "KH9987                358             1  10225000.0\n",
      "KH9995                127             2  10770000.0\n",
      "KH9996                384             1    920000.0\n",
      "\n",
      "[7466 rows x 3 columns]\n"
     ]
    }
   ],
   "source": [
    "# Creating an RFM table with recency, frequency, and monetary values.\n",
    "TCM2_rfm_table = TCM2.groupby(['Customer_code']).agg({\n",
    "    'Order_date': lambda date: (comparison_date - date.max()).days,  # Recency\n",
    "    'Product_code': lambda prod_id: len(prod_id),  # Frequency (count of product codes)\n",
    "    'Revenue': lambda p: sum(p)  # Monetary (sum of order amounts)\n",
    "})\n",
    "\n",
    "print(TCM2_rfm_table)\n"
   ]
  },
  {
   "cell_type": "code",
   "execution_count": 20,
   "metadata": {},
   "outputs": [
    {
     "data": {
      "text/plain": [
       "Index(['Order_date', 'Product_code', 'Revenue'], dtype='object')"
      ]
     },
     "execution_count": 20,
     "metadata": {},
     "output_type": "execute_result"
    }
   ],
   "source": [
    "# The columns in rfm_table dataframe are not properly named. Renaming of the columns to appropiate name is needed\n",
    "\n",
    "TCM2_rfm_table.columns"
   ]
  },
  {
   "cell_type": "code",
   "execution_count": 22,
   "metadata": {},
   "outputs": [],
   "source": [
    "# Renaming column names to appropiate names\n",
    "\n",
    "TCM2_rfm_table.rename(columns={'Order_date' : 'recency', \n",
    "                        'Product_code' : 'frequency',\n",
    "                        'Revenue' : 'monetary'} , inplace=True)"
   ]
  },
  {
   "cell_type": "code",
   "execution_count": 24,
   "metadata": {},
   "outputs": [
    {
     "name": "stdout",
     "output_type": "stream",
     "text": [
      "count    7466.000000\n",
      "mean        1.708545\n",
      "std         1.093352\n",
      "min         1.000000\n",
      "25%         1.000000\n",
      "50%         1.000000\n",
      "75%         2.000000\n",
      "max        11.000000\n",
      "Name: frequency, dtype: float64\n"
     ]
    }
   ],
   "source": [
    "print(TCM2_rfm_table['frequency'].describe())\n"
   ]
  },
  {
   "cell_type": "code",
   "execution_count": 27,
   "metadata": {},
   "outputs": [],
   "source": [
    "TCM2_rfm_table['r_quartile'] = pd.cut(TCM2_rfm_table['recency'], 4, labels=['4','3','2','1'], duplicates='drop')\n",
    "TCM2_rfm_table['f_quartile'] = pd.cut(TCM2_rfm_table['frequency'],4 , labels=['1','2','3','4'], duplicates='drop')\n",
    "TCM2_rfm_table['m_quartile'] = pd.cut(TCM2_rfm_table['monetary'], 4, labels=['1','2','3','4'], duplicates='drop')\n"
   ]
  },
  {
   "cell_type": "code",
   "execution_count": 29,
   "metadata": {},
   "outputs": [
    {
     "data": {
      "text/html": [
       "<div>\n",
       "<style scoped>\n",
       "    .dataframe tbody tr th:only-of-type {\n",
       "        vertical-align: middle;\n",
       "    }\n",
       "\n",
       "    .dataframe tbody tr th {\n",
       "        vertical-align: top;\n",
       "    }\n",
       "\n",
       "    .dataframe thead th {\n",
       "        text-align: right;\n",
       "    }\n",
       "</style>\n",
       "<table border=\"1\" class=\"dataframe\">\n",
       "  <thead>\n",
       "    <tr style=\"text-align: right;\">\n",
       "      <th></th>\n",
       "      <th>recency</th>\n",
       "      <th>frequency</th>\n",
       "      <th>monetary</th>\n",
       "      <th>r_quartile</th>\n",
       "      <th>f_quartile</th>\n",
       "      <th>m_quartile</th>\n",
       "    </tr>\n",
       "    <tr>\n",
       "      <th>Customer_code</th>\n",
       "      <th></th>\n",
       "      <th></th>\n",
       "      <th></th>\n",
       "      <th></th>\n",
       "      <th></th>\n",
       "      <th></th>\n",
       "    </tr>\n",
       "  </thead>\n",
       "  <tbody>\n",
       "    <tr>\n",
       "      <th>KH 13921</th>\n",
       "      <td>64</td>\n",
       "      <td>2</td>\n",
       "      <td>17750000.0</td>\n",
       "      <td>4</td>\n",
       "      <td>1</td>\n",
       "      <td>2</td>\n",
       "    </tr>\n",
       "    <tr>\n",
       "      <th>KH0213</th>\n",
       "      <td>329</td>\n",
       "      <td>2</td>\n",
       "      <td>8570000.0</td>\n",
       "      <td>1</td>\n",
       "      <td>1</td>\n",
       "      <td>1</td>\n",
       "    </tr>\n",
       "    <tr>\n",
       "      <th>KH0224</th>\n",
       "      <td>39</td>\n",
       "      <td>2</td>\n",
       "      <td>4870000.0</td>\n",
       "      <td>4</td>\n",
       "      <td>1</td>\n",
       "      <td>1</td>\n",
       "    </tr>\n",
       "    <tr>\n",
       "      <th>KH0543</th>\n",
       "      <td>25</td>\n",
       "      <td>1</td>\n",
       "      <td>9475000.0</td>\n",
       "      <td>4</td>\n",
       "      <td>1</td>\n",
       "      <td>1</td>\n",
       "    </tr>\n",
       "    <tr>\n",
       "      <th>KH0703</th>\n",
       "      <td>345</td>\n",
       "      <td>2</td>\n",
       "      <td>7135000.0</td>\n",
       "      <td>1</td>\n",
       "      <td>1</td>\n",
       "      <td>1</td>\n",
       "    </tr>\n",
       "    <tr>\n",
       "      <th>...</th>\n",
       "      <td>...</td>\n",
       "      <td>...</td>\n",
       "      <td>...</td>\n",
       "      <td>...</td>\n",
       "      <td>...</td>\n",
       "      <td>...</td>\n",
       "    </tr>\n",
       "    <tr>\n",
       "      <th>KH9983</th>\n",
       "      <td>385</td>\n",
       "      <td>1</td>\n",
       "      <td>3290000.0</td>\n",
       "      <td>1</td>\n",
       "      <td>1</td>\n",
       "      <td>1</td>\n",
       "    </tr>\n",
       "    <tr>\n",
       "      <th>KH9985</th>\n",
       "      <td>308</td>\n",
       "      <td>3</td>\n",
       "      <td>3040000.0</td>\n",
       "      <td>1</td>\n",
       "      <td>1</td>\n",
       "      <td>1</td>\n",
       "    </tr>\n",
       "    <tr>\n",
       "      <th>KH9987</th>\n",
       "      <td>358</td>\n",
       "      <td>1</td>\n",
       "      <td>10225000.0</td>\n",
       "      <td>1</td>\n",
       "      <td>1</td>\n",
       "      <td>1</td>\n",
       "    </tr>\n",
       "    <tr>\n",
       "      <th>KH9995</th>\n",
       "      <td>127</td>\n",
       "      <td>2</td>\n",
       "      <td>10770000.0</td>\n",
       "      <td>3</td>\n",
       "      <td>1</td>\n",
       "      <td>1</td>\n",
       "    </tr>\n",
       "    <tr>\n",
       "      <th>KH9996</th>\n",
       "      <td>384</td>\n",
       "      <td>1</td>\n",
       "      <td>920000.0</td>\n",
       "      <td>1</td>\n",
       "      <td>1</td>\n",
       "      <td>1</td>\n",
       "    </tr>\n",
       "  </tbody>\n",
       "</table>\n",
       "<p>7466 rows × 6 columns</p>\n",
       "</div>"
      ],
      "text/plain": [
       "               recency  frequency    monetary r_quartile f_quartile m_quartile\n",
       "Customer_code                                                                 \n",
       "KH 13921            64          2  17750000.0          4          1          2\n",
       "KH0213             329          2   8570000.0          1          1          1\n",
       "KH0224              39          2   4870000.0          4          1          1\n",
       "KH0543              25          1   9475000.0          4          1          1\n",
       "KH0703             345          2   7135000.0          1          1          1\n",
       "...                ...        ...         ...        ...        ...        ...\n",
       "KH9983             385          1   3290000.0          1          1          1\n",
       "KH9985             308          3   3040000.0          1          1          1\n",
       "KH9987             358          1  10225000.0          1          1          1\n",
       "KH9995             127          2  10770000.0          3          1          1\n",
       "KH9996             384          1    920000.0          1          1          1\n",
       "\n",
       "[7466 rows x 6 columns]"
      ]
     },
     "execution_count": 29,
     "metadata": {},
     "output_type": "execute_result"
    }
   ],
   "source": [
    "TCM2_rfm_table"
   ]
  },
  {
   "cell_type": "code",
   "execution_count": 31,
   "metadata": {},
   "outputs": [],
   "source": [
    "# Caluclation of RFM Score.\n",
    "# Max weightage is given to recency then frequency and then  monetary.\n",
    "# Tính điểm RFM.\n",
    "# Trọng số tối đa được đưa ra cho mức độ mới, sau đó là tần suất và sau đó là tiền tệ.\n",
    "\n",
    "TCM2_rfm_table['rfm_score'] = 100*TCM2_rfm_table['r_quartile'].astype(int)+10*TCM2_rfm_table['f_quartile'].astype(int)+TCM2_rfm_table['m_quartile'].astype(int)"
   ]
  },
  {
   "cell_type": "code",
   "execution_count": 33,
   "metadata": {},
   "outputs": [],
   "source": [
    "# Assigning a title to a customer.\n",
    "# Platinum corresponds to highest range of RFM score down to Bronze to lowest range of RFM score.\n",
    "\n",
    "TCM2_rfm_table['customer_title'] = pd.qcut(TCM2_rfm_table['rfm_score'], 4, ['Bronze','Silver','Gold','Platinum'])"
   ]
  },
  {
   "cell_type": "code",
   "execution_count": 35,
   "metadata": {},
   "outputs": [
    {
     "data": {
      "text/html": [
       "<div>\n",
       "<style scoped>\n",
       "    .dataframe tbody tr th:only-of-type {\n",
       "        vertical-align: middle;\n",
       "    }\n",
       "\n",
       "    .dataframe tbody tr th {\n",
       "        vertical-align: top;\n",
       "    }\n",
       "\n",
       "    .dataframe thead th {\n",
       "        text-align: right;\n",
       "    }\n",
       "</style>\n",
       "<table border=\"1\" class=\"dataframe\">\n",
       "  <thead>\n",
       "    <tr style=\"text-align: right;\">\n",
       "      <th></th>\n",
       "      <th>recency</th>\n",
       "      <th>frequency</th>\n",
       "      <th>monetary</th>\n",
       "      <th>r_quartile</th>\n",
       "      <th>f_quartile</th>\n",
       "      <th>m_quartile</th>\n",
       "      <th>rfm_score</th>\n",
       "      <th>customer_title</th>\n",
       "    </tr>\n",
       "    <tr>\n",
       "      <th>Customer_code</th>\n",
       "      <th></th>\n",
       "      <th></th>\n",
       "      <th></th>\n",
       "      <th></th>\n",
       "      <th></th>\n",
       "      <th></th>\n",
       "      <th></th>\n",
       "      <th></th>\n",
       "    </tr>\n",
       "  </thead>\n",
       "  <tbody>\n",
       "    <tr>\n",
       "      <th>KH 13921</th>\n",
       "      <td>64</td>\n",
       "      <td>2</td>\n",
       "      <td>17750000.0</td>\n",
       "      <td>4</td>\n",
       "      <td>1</td>\n",
       "      <td>2</td>\n",
       "      <td>412</td>\n",
       "      <td>Platinum</td>\n",
       "    </tr>\n",
       "    <tr>\n",
       "      <th>KH0213</th>\n",
       "      <td>329</td>\n",
       "      <td>2</td>\n",
       "      <td>8570000.0</td>\n",
       "      <td>1</td>\n",
       "      <td>1</td>\n",
       "      <td>1</td>\n",
       "      <td>111</td>\n",
       "      <td>Bronze</td>\n",
       "    </tr>\n",
       "    <tr>\n",
       "      <th>KH0224</th>\n",
       "      <td>39</td>\n",
       "      <td>2</td>\n",
       "      <td>4870000.0</td>\n",
       "      <td>4</td>\n",
       "      <td>1</td>\n",
       "      <td>1</td>\n",
       "      <td>411</td>\n",
       "      <td>Gold</td>\n",
       "    </tr>\n",
       "    <tr>\n",
       "      <th>KH0543</th>\n",
       "      <td>25</td>\n",
       "      <td>1</td>\n",
       "      <td>9475000.0</td>\n",
       "      <td>4</td>\n",
       "      <td>1</td>\n",
       "      <td>1</td>\n",
       "      <td>411</td>\n",
       "      <td>Gold</td>\n",
       "    </tr>\n",
       "    <tr>\n",
       "      <th>KH0703</th>\n",
       "      <td>345</td>\n",
       "      <td>2</td>\n",
       "      <td>7135000.0</td>\n",
       "      <td>1</td>\n",
       "      <td>1</td>\n",
       "      <td>1</td>\n",
       "      <td>111</td>\n",
       "      <td>Bronze</td>\n",
       "    </tr>\n",
       "    <tr>\n",
       "      <th>...</th>\n",
       "      <td>...</td>\n",
       "      <td>...</td>\n",
       "      <td>...</td>\n",
       "      <td>...</td>\n",
       "      <td>...</td>\n",
       "      <td>...</td>\n",
       "      <td>...</td>\n",
       "      <td>...</td>\n",
       "    </tr>\n",
       "    <tr>\n",
       "      <th>KH9983</th>\n",
       "      <td>385</td>\n",
       "      <td>1</td>\n",
       "      <td>3290000.0</td>\n",
       "      <td>1</td>\n",
       "      <td>1</td>\n",
       "      <td>1</td>\n",
       "      <td>111</td>\n",
       "      <td>Bronze</td>\n",
       "    </tr>\n",
       "    <tr>\n",
       "      <th>KH9985</th>\n",
       "      <td>308</td>\n",
       "      <td>3</td>\n",
       "      <td>3040000.0</td>\n",
       "      <td>1</td>\n",
       "      <td>1</td>\n",
       "      <td>1</td>\n",
       "      <td>111</td>\n",
       "      <td>Bronze</td>\n",
       "    </tr>\n",
       "    <tr>\n",
       "      <th>KH9987</th>\n",
       "      <td>358</td>\n",
       "      <td>1</td>\n",
       "      <td>10225000.0</td>\n",
       "      <td>1</td>\n",
       "      <td>1</td>\n",
       "      <td>1</td>\n",
       "      <td>111</td>\n",
       "      <td>Bronze</td>\n",
       "    </tr>\n",
       "    <tr>\n",
       "      <th>KH9995</th>\n",
       "      <td>127</td>\n",
       "      <td>2</td>\n",
       "      <td>10770000.0</td>\n",
       "      <td>3</td>\n",
       "      <td>1</td>\n",
       "      <td>1</td>\n",
       "      <td>311</td>\n",
       "      <td>Silver</td>\n",
       "    </tr>\n",
       "    <tr>\n",
       "      <th>KH9996</th>\n",
       "      <td>384</td>\n",
       "      <td>1</td>\n",
       "      <td>920000.0</td>\n",
       "      <td>1</td>\n",
       "      <td>1</td>\n",
       "      <td>1</td>\n",
       "      <td>111</td>\n",
       "      <td>Bronze</td>\n",
       "    </tr>\n",
       "  </tbody>\n",
       "</table>\n",
       "<p>7466 rows × 8 columns</p>\n",
       "</div>"
      ],
      "text/plain": [
       "               recency  frequency    monetary r_quartile f_quartile  \\\n",
       "Customer_code                                                         \n",
       "KH 13921            64          2  17750000.0          4          1   \n",
       "KH0213             329          2   8570000.0          1          1   \n",
       "KH0224              39          2   4870000.0          4          1   \n",
       "KH0543              25          1   9475000.0          4          1   \n",
       "KH0703             345          2   7135000.0          1          1   \n",
       "...                ...        ...         ...        ...        ...   \n",
       "KH9983             385          1   3290000.0          1          1   \n",
       "KH9985             308          3   3040000.0          1          1   \n",
       "KH9987             358          1  10225000.0          1          1   \n",
       "KH9995             127          2  10770000.0          3          1   \n",
       "KH9996             384          1    920000.0          1          1   \n",
       "\n",
       "              m_quartile  rfm_score customer_title  \n",
       "Customer_code                                       \n",
       "KH 13921               2        412       Platinum  \n",
       "KH0213                 1        111         Bronze  \n",
       "KH0224                 1        411           Gold  \n",
       "KH0543                 1        411           Gold  \n",
       "KH0703                 1        111         Bronze  \n",
       "...                  ...        ...            ...  \n",
       "KH9983                 1        111         Bronze  \n",
       "KH9985                 1        111         Bronze  \n",
       "KH9987                 1        111         Bronze  \n",
       "KH9995                 1        311         Silver  \n",
       "KH9996                 1        111         Bronze  \n",
       "\n",
       "[7466 rows x 8 columns]"
      ]
     },
     "execution_count": 35,
     "metadata": {},
     "output_type": "execute_result"
    }
   ],
   "source": [
    "TCM2_rfm_table"
   ]
  },
  {
   "cell_type": "markdown",
   "metadata": {},
   "source": [
    "Merging both RFM with TCM2"
   ]
  },
  {
   "cell_type": "code",
   "execution_count": 56,
   "metadata": {},
   "outputs": [],
   "source": [
    "TCM2_Tsgroup_rfm = pd.merge(TCM2,TCM2_rfm_table, left_on='Customer_code', right_on='Customer_code', how='inner')"
   ]
  },
  {
   "cell_type": "code",
   "execution_count": 55,
   "metadata": {},
   "outputs": [],
   "source": [
    "TCM2_rfm_table = TCM2_rfm_table.drop(columns='Customer_code', errors='ignore')"
   ]
  },
  {
   "cell_type": "code",
   "execution_count": 59,
   "metadata": {},
   "outputs": [
    {
     "data": {
      "text/plain": [
       "<bound method DataFrame.info of        level_0  index    No.  Order_date Create_date Order_code  \\\n",
       "0            0      0      1  31/07/2024  31/07/2024    DH26827   \n",
       "1            3      3      4  31/07/2024  31/07/2024    DH26826   \n",
       "2           11     11     12  31/07/2024  31/07/2024    DH26825   \n",
       "3           18     18     19  31/07/2024  31/07/2024    DH26824   \n",
       "4           21     21     22  31/07/2024  31/07/2024    DH26823   \n",
       "...        ...    ...    ...         ...         ...        ...   \n",
       "12751    87489  87489  87490  01/07/2023  01/07/2023    DH11067   \n",
       "12752    87503  87503  87504  01/07/2023  01/07/2023    DH11066   \n",
       "12753    87506  87506  87507  01/07/2023  01/07/2023    DH11065   \n",
       "12754    87508  87508  87509  01/07/2023  01/07/2023    DH11064   \n",
       "12755    87511  87511  87512  01/07/2023  01/07/2023    DH11063   \n",
       "\n",
       "               Executor Customer_code  \\\n",
       "0               Diệu My       KH17171   \n",
       "1      Nguyễn Tường Vân       KH22024   \n",
       "2             Quỳnh Mai       KH18458   \n",
       "3            Phạm Thanh       KH20151   \n",
       "4             Quỳnh Mai       KH16957   \n",
       "...                 ...           ...   \n",
       "12751       Nguyễn Loan       KH10845   \n",
       "12752        Trương Nga       KH10169   \n",
       "12753        Trương Nga       KH11798   \n",
       "12754        Trương Nga       KH10255   \n",
       "12755        Trương Nga       KH10862   \n",
       "\n",
       "                                     Customer_name  Year_of_Birth  ...  \\\n",
       "0      KH 17171 Mai Thị Thanh Huyền 1998(ĐNBT,TTY)         1998.0  ...   \n",
       "1                                    Đỗ Quốc Vương            NaN  ...   \n",
       "2                                       Vũ Thị Hậu            NaN  ...   \n",
       "3                                  Nguyễn Thị Tính            NaN  ...   \n",
       "4                            Nguyễn Thị Ngọc Tuyết            NaN  ...   \n",
       "...                                            ...            ...  ...   \n",
       "12751                            Đoàn Kim Yến 1994         1994.0  ...   \n",
       "12752                               Trương Thị Thu            NaN  ...   \n",
       "12753                                   Hoàng Hiền            NaN  ...   \n",
       "12754                                 Nguyễn Hương            NaN  ...   \n",
       "12755                                   Ngọc Hướng            NaN  ...   \n",
       "\n",
       "       Customer_transfers  Customer_collects_CODE  recency frequency  \\\n",
       "0                   KHÔNG                      CÓ        0         1   \n",
       "1                   KHÔNG                      CÓ        0         2   \n",
       "2                   KHÔNG                      CÓ        0         1   \n",
       "3                   KHÔNG                      CÓ        0         1   \n",
       "4                   KHÔNG                      CÓ        0         1   \n",
       "...                   ...                     ...      ...       ...   \n",
       "12751                  CÓ                   KHÔNG      396         1   \n",
       "12752               KHÔNG                      CÓ      396         1   \n",
       "12753               KHÔNG                      CÓ      116         3   \n",
       "12754               KHÔNG                      CÓ      365         3   \n",
       "12755               KHÔNG                      CÓ      340         2   \n",
       "\n",
       "         monetary  r_quartile f_quartile m_quartile rfm_score customer_title  \n",
       "0        730000.0           4          1          1       411           Gold  \n",
       "1      10980000.0           4          1          1       411           Gold  \n",
       "2       4860000.0           4          1          1       411           Gold  \n",
       "3       1270000.0           4          1          1       411           Gold  \n",
       "4       1610000.0           4          1          1       411           Gold  \n",
       "...           ...         ...        ...        ...       ...            ...  \n",
       "12751  10225000.0           1          1          1       111         Bronze  \n",
       "12752    655000.0           1          1          1       111         Bronze  \n",
       "12753  16760000.0           3          1          2       312           Gold  \n",
       "12754  11340000.0           1          1          1       111         Bronze  \n",
       "12755  21075000.0           1          1          2       112         Bronze  \n",
       "\n",
       "[12756 rows x 64 columns]>"
      ]
     },
     "execution_count": 59,
     "metadata": {},
     "output_type": "execute_result"
    }
   ],
   "source": [
    "TCM2_Tsgroup_rfm.info"
   ]
  },
  {
   "cell_type": "code",
   "execution_count": 62,
   "metadata": {},
   "outputs": [],
   "source": [
    "TCM2_Tsgroup_rfm['Age'] = TCM2_Tsgroup_rfm['Age'].fillna(0)  # Thay thế NaN bằng 0, hoặc bất kỳ giá trị nào bạn muốn\n"
   ]
  },
  {
   "cell_type": "markdown",
   "metadata": {},
   "source": [
    "Creating an age group feature"
   ]
  },
  {
   "cell_type": "code",
   "execution_count": 63,
   "metadata": {},
   "outputs": [],
   "source": [
    "TCM2_Tsgroup_rfm['Age_Group'] = TCM2_Tsgroup_rfm['Age'].apply(lambda x : (math.floor(x/10)+1)*10)"
   ]
  },
  {
   "cell_type": "markdown",
   "metadata": {},
   "source": [
    "Creating a detail customer title/tag based on RFM Score"
   ]
  },
  {
   "cell_type": "code",
   "execution_count": 64,
   "metadata": {},
   "outputs": [],
   "source": [
    "def cust_score_title_lkup(cols):\n",
    "    \n",
    "    rfm_score = cols[0]\n",
    "    \n",
    "    if rfm_score >= 444:\n",
    "        return 'Platinum Customer'\n",
    "    elif rfm_score >=433 and rfm_score < 444:\n",
    "        return 'Very Loyal'\n",
    "    elif rfm_score >=421 and rfm_score < 433:\n",
    "        return 'Becoming Loyal'\n",
    "    elif rfm_score >=344 and rfm_score < 421:\n",
    "        return 'Recent Customer'\n",
    "    elif rfm_score >=323 and rfm_score < 344:\n",
    "        return 'Potential Customer'\n",
    "    elif rfm_score >=311 and rfm_score < 323:\n",
    "        return 'Late Bloomer'\n",
    "    elif rfm_score >=224 and rfm_score < 311:\n",
    "        return 'Loosing Customer'\n",
    "    elif rfm_score >=212 and rfm_score < 224:\n",
    "        return 'High Risk Customer'\n",
    "    elif rfm_score >=124 and rfm_score < 212:\n",
    "        return 'Almost Lost Customer'\n",
    "    elif rfm_score >=112 and rfm_score < 124:\n",
    "        return 'Evasive Customer'\n",
    "    else :\n",
    "        return 'Lost Customer'"
   ]
  },
  {
   "cell_type": "code",
   "execution_count": 66,
   "metadata": {},
   "outputs": [
    {
     "name": "stderr",
     "output_type": "stream",
     "text": [
      "C:\\Users\\Admin\\AppData\\Local\\Temp\\ipykernel_35424\\4027663716.py:3: FutureWarning: Series.__getitem__ treating keys as positions is deprecated. In a future version, integer keys will always be treated as labels (consistent with DataFrame behavior). To access a value by position, use `ser.iloc[pos]`\n",
      "  rfm_score = cols[0]\n"
     ]
    }
   ],
   "source": [
    "# Applying the above functions and creating a new feature detail_cust_title\n",
    "\n",
    "TCM2_Tsgroup_rfm['detail_cust_title']=TCM2_Tsgroup_rfm[['rfm_score']].apply(cust_score_title_lkup, axis=1)"
   ]
  },
  {
   "cell_type": "code",
   "execution_count": 67,
   "metadata": {},
   "outputs": [],
   "source": [
    "# Function to provide ranks to the customers based on their title.\n",
    "\n",
    "def get_rank(cols):\n",
    "    \n",
    "    title = cols[0]\n",
    "    \n",
    "    if title=='Platinum Customer':\n",
    "        return 1\n",
    "    elif title=='Very Loyal':\n",
    "        return 2\n",
    "    elif title == 'Becoming Loyal':\n",
    "        return 3\n",
    "    elif title == 'Recent Customer':\n",
    "        return 4\n",
    "    elif title=='Potential Customer':\n",
    "        return 5\n",
    "    elif title == 'Late Bloomer':\n",
    "        return 6\n",
    "    elif title == 'Loosing Customer':\n",
    "        return 7\n",
    "    elif title=='High Risk Customer':\n",
    "        return 8\n",
    "    elif title == 'Almost Lost Customer':\n",
    "        return 9\n",
    "    elif title == 'Evasive Customer':\n",
    "        return 10\n",
    "    else :\n",
    "        return 11"
   ]
  },
  {
   "cell_type": "code",
   "execution_count": 68,
   "metadata": {},
   "outputs": [
    {
     "name": "stderr",
     "output_type": "stream",
     "text": [
      "C:\\Users\\Admin\\AppData\\Local\\Temp\\ipykernel_35424\\782112168.py:5: FutureWarning: Series.__getitem__ treating keys as positions is deprecated. In a future version, integer keys will always be treated as labels (consistent with DataFrame behavior). To access a value by position, use `ser.iloc[pos]`\n",
      "  title = cols[0]\n"
     ]
    }
   ],
   "source": [
    "# Applying the above functions and creating a new feature rank\n",
    "\n",
    "TCM2_Tsgroup_rfm['rank']=TCM2_Tsgroup_rfm[['detail_cust_title']].apply(get_rank, axis=1)"
   ]
  },
  {
   "cell_type": "markdown",
   "metadata": {},
   "source": [
    "2. Exporting to CSV File"
   ]
  },
  {
   "cell_type": "code",
   "execution_count": 70,
   "metadata": {},
   "outputs": [],
   "source": [
    "TCM2_Tsgroup_rfm.to_csv('TCM2_Tsgroup_RFN_Analsysis.csv', index=False)"
   ]
  },
  {
   "cell_type": "code",
   "execution_count": 72,
   "metadata": {},
   "outputs": [
    {
     "name": "stdout",
     "output_type": "stream",
     "text": [
      "Total records in final dataset : 12756\n"
     ]
    }
   ],
   "source": [
    "print(\"Total records in final dataset : {}\".format(TCM2_Tsgroup_rfm.shape[0]))"
   ]
  },
  {
   "cell_type": "markdown",
   "metadata": {},
   "source": [
    "3. Data Analysis and Exploration"
   ]
  },
  {
   "cell_type": "code",
   "execution_count": 79,
   "metadata": {},
   "outputs": [
    {
     "name": "stdout",
     "output_type": "stream",
     "text": [
      "   No.  Order_date Create_date Order_code     Executor Customer_code  \\\n",
      "0    1  31/07/2024  31/07/2024    DH26827      Diệu My       KH17171   \n",
      "1   12  31/07/2024  31/07/2024    DH26825    Quỳnh Mai       KH18458   \n",
      "2   19  31/07/2024  31/07/2024    DH26824   Phạm Thanh       KH20151   \n",
      "3   22  31/07/2024  31/07/2024    DH26823    Quỳnh Mai       KH16957   \n",
      "4   24  31/07/2024  31/07/2024    DH26822  Nguyễn Loan       KH22678   \n",
      "\n",
      "                                 Customer_name  Year_of_Birth   Age  \\\n",
      "0  KH 17171 Mai Thị Thanh Huyền 1998(ĐNBT,TTY)         1998.0  26.0   \n",
      "1                                   Vũ Thị Hậu            NaN   NaN   \n",
      "2                              Nguyễn Thị Tính            NaN   NaN   \n",
      "3                        Nguyễn Thị Ngọc Tuyết            NaN   NaN   \n",
      "4                            Vàng Thị Xim 1994         1994.0  30.0   \n",
      "\n",
      "   Phone_number  ...                                 Order_terms  \\\n",
      "0     965260898  ...  Thời gian giao hàng: \\nĐịa điểm giao hàng:   \n",
      "1     977390134  ...    Thời gian giao hàng:\\nĐịa chỉ giao hàng:   \n",
      "2     988465913  ...    Thời gian giao hàng:\\nĐịa chỉ giao hàng:   \n",
      "3     365889422  ...    Thời gian giao hàng:\\nĐịa chỉ giao hàng:   \n",
      "4     378309868  ...    Thời gian giao hàng:\\nĐịa chỉ giao hàng:   \n",
      "\n",
      "  Payment_method Payment_method_each_time      Payment date  \\\n",
      "0       Tiền mặt             Chuyển khoản  05/08/2024 00:00   \n",
      "1       Tiền mặt             Chuyển khoản  05/08/2024 00:00   \n",
      "2       Tiền mặt             Chuyển khoản  05/08/2024 00:00   \n",
      "3       Tiền mặt             Chuyển khoản  02/08/2024 00:00   \n",
      "4       Tiền mặt             Chuyển khoản  05/08/2024 00:00   \n",
      "\n",
      "                                        Order source            Creator  \\\n",
      "0  CSKH - Khách mua thêm thuốc khác trong quá trì...      TCM2B Diệu My   \n",
      "1  CSKH - Khách mua thêm thuốc khác trong quá trì...    TCM2B Quỳnh Mai   \n",
      "2  CSKH - Khách mua thêm thuốc khác trong quá trì...   TCM2C Phạm Thanh   \n",
      "3  CSKH - Khách mua thêm thuốc khác trong quá trì...    TCM2B Quỳnh Mai   \n",
      "4  CSKH - Khách mua thêm thuốc khác trong quá trì...  TCM2A Nguyễn Loan   \n",
      "\n",
      "  Order_type Order_#1  Customer_transfers Customer_collects_CODE  \n",
      "0  Đơn lần 1        1               KHÔNG                     CÓ  \n",
      "1  Đơn lần 1        1               KHÔNG                     CÓ  \n",
      "2  Đơn lần 1        1               KHÔNG                     CÓ  \n",
      "3  Đơn lần 1        1               KHÔNG                     CÓ  \n",
      "4  Đơn lần 1        1               KHÔNG                     CÓ  \n",
      "\n",
      "[5 rows x 54 columns]\n"
     ]
    }
   ],
   "source": [
    "new_cust= pd.read_excel('c:\\\\Users\\\\Admin\\\\OneDrive\\\\Documents\\\\TS Group\\\\2024_2023_07\\\\TCM2_NewCustomer.xlsx', sheet_name='Sheet1')\n",
    "print(new_cust.head())"
   ]
  },
  {
   "cell_type": "code",
   "execution_count": 81,
   "metadata": {},
   "outputs": [
    {
     "name": "stderr",
     "output_type": "stream",
     "text": [
      "C:\\Users\\Admin\\AppData\\Local\\Temp\\ipykernel_35424\\4198746149.py:2: UserWarning: \n",
      "\n",
      "`distplot` is a deprecated function and will be removed in seaborn v0.14.0.\n",
      "\n",
      "Please adapt your code to use either `displot` (a figure-level function with\n",
      "similar flexibility) or `histplot` (an axes-level function for histograms).\n",
      "\n",
      "For a guide to updating your code to use the new functions, please see\n",
      "https://gist.github.com/mwaskom/de44147ed2974457ad6372750bbe5751\n",
      "\n",
      "  sns.distplot(new_cust['Age'], kde=False, bins=15)\n"
     ]
    },
    {
     "data": {
      "image/png": "[encoded data removed]",
      "text/plain": [
       "<Figure size 1000x800 with 1 Axes>"
      ]
     },
     "metadata": {},
     "output_type": "display_data"
    }
   ],
   "source": [
    "plt.figure(figsize=(10,8))\n",
    "sns.distplot(new_cust['Age'], kde=False, bins=15)\n",
    "plt.xlabel('Age')\n",
    "plt.ylabel('Number of Customers')\n",
    "plt.title('New Customers - Age Distribution')\n",
    "\n",
    "plt.show()"
   ]
  },
  {
   "cell_type": "code",
   "execution_count": 84,
   "metadata": {},
   "outputs": [
    {
     "name": "stdout",
     "output_type": "stream",
     "text": [
      "   No.  Order_date Create_date Order_code          Executor Customer_code  \\\n",
      "0    4  31/07/2024  31/07/2024    DH26826  Nguyễn Tường Vân       KH22024   \n",
      "1   50  31/07/2024  31/07/2024    DH26817         Quỳnh Mai       KH24389   \n",
      "2   66  31/07/2024  31/07/2024    DH26816       Tạ Thị Soan       KH24402   \n",
      "3   80  31/07/2024  31/07/2024    DH26815         Quỳnh Mai       KH19379   \n",
      "4   92  31/07/2024  31/07/2024    DH26814         Thanh Nga       KH24951   \n",
      "\n",
      "                 Customer_name  Year_of_Birth   Age  Phone_number  ...  \\\n",
      "0                Đỗ Quốc Vương            NaN   NaN     985969934  ...   \n",
      "1          Nguyễn Thị Huệ 1999         1999.0  25.0     386217539  ...   \n",
      "2  KH 24402 Cao Thị Hương 1989         1989.0  35.0     353855011  ...   \n",
      "3       Lưu Thị Thùy Linh 2001         2001.0  23.0     337002886  ...   \n",
      "4   Trần Thị Ngọc Ánh SBD 7698            NaN   NaN     983244665  ...   \n",
      "\n",
      "                                  Order_terms Payment_method  \\\n",
      "0  Thời gian giao hàng: \\nĐịa điểm giao hàng:       Tiền mặt   \n",
      "1    Thời gian giao hàng:\\nĐịa chỉ giao hàng:       Tiền mặt   \n",
      "2    Thời gian giao hàng:\\nĐịa chỉ giao hàng:       Tiền mặt   \n",
      "3    Thời gian giao hàng:\\nĐịa chỉ giao hàng:       Tiền mặt   \n",
      "4    Thời gian giao hàng:\\nĐịa chỉ giao hàng:       Tiền mặt   \n",
      "\n",
      "  Payment_method_each_time      Payment date  \\\n",
      "0             Chuyển khoản  05/08/2024 00:00   \n",
      "1             Chuyển khoản  09/08/2024 00:00   \n",
      "2             Chuyển khoản  05/08/2024 00:00   \n",
      "3             Chuyển khoản  05/08/2024 00:00   \n",
      "4             Chuyển khoản  02/08/2024 00:00   \n",
      "\n",
      "                                        Order source          Creator  \\\n",
      "0                                      Tái đơn lần 2  TCM2C Tường Vân   \n",
      "1                                      Tái đơn lần 1  TCM2B Quỳnh Mai   \n",
      "2                                      Tái đơn lần 1    TCM2B Tạ Soan   \n",
      "3  CSKH - Khách mua thêm thuốc khác trong quá trì...  TCM2B Quỳnh Mai   \n",
      "4  CSKH - Khách mua thêm thuốc khác trong quá trì...  TCM2C Thanh Nga   \n",
      "\n",
      "  Order_type Order_#1  Customer_transfers Customer_collects_CODE  \n",
      "0  Đơn lần 2        2               KHÔNG                     CÓ  \n",
      "1  Đơn lần 2        2               KHÔNG                     CÓ  \n",
      "2  Đơn lần 2        2               KHÔNG                     CÓ  \n",
      "3  Đơn lần 2        2               KHÔNG                     CÓ  \n",
      "4  Đơn lần 2        2               KHÔNG                     CÓ  \n",
      "\n",
      "[5 rows x 54 columns]\n"
     ]
    }
   ],
   "source": [
    "old_cust= pd.read_excel('c:\\\\Users\\\\Admin\\\\OneDrive\\\\Documents\\\\TS Group\\\\2024_2023_07\\\\TCM2_OldCustomer.xlsx', sheet_name='Sheet1')\n",
    "print(old_cust.head())"
   ]
  },
  {
   "cell_type": "code",
   "execution_count": 86,
   "metadata": {},
   "outputs": [
    {
     "name": "stderr",
     "output_type": "stream",
     "text": [
      "C:\\Users\\Admin\\AppData\\Local\\Temp\\ipykernel_35424\\446104277.py:2: UserWarning: \n",
      "\n",
      "`distplot` is a deprecated function and will be removed in seaborn v0.14.0.\n",
      "\n",
      "Please adapt your code to use either `displot` (a figure-level function with\n",
      "similar flexibility) or `histplot` (an axes-level function for histograms).\n",
      "\n",
      "For a guide to updating your code to use the new functions, please see\n",
      "https://gist.github.com/mwaskom/de44147ed2974457ad6372750bbe5751\n",
      "\n",
      "  sns.distplot(old_cust['Age'], kde=False, bins=15)\n"
     ]
    },
    {
     "data": {
      "image/png": "[encoded data removed]",
      "text/plain": [
       "<Figure size 1000x800 with 1 Axes>"
      ]
     },
     "metadata": {},
     "output_type": "display_data"
    }
   ],
   "source": [
    "plt.figure(figsize=(10,8))\n",
    "sns.distplot(old_cust['Age'], kde=False, bins=15)\n",
    "plt.xlabel('Age')\n",
    "plt.ylabel('Number of Customers')\n",
    "plt.title('Old Customers - Age Distribution')\n",
    "\n",
    "plt.show()"
   ]
  },
  {
   "cell_type": "markdown",
   "metadata": {},
   "source": [
    "Segmentation By Product_group"
   ]
  },
  {
   "cell_type": "markdown",
   "metadata": {},
   "source": [
    "New Customer"
   ]
  },
  {
   "cell_type": "code",
   "execution_count": 98,
   "metadata": {},
   "outputs": [
    {
     "data": {
      "image/png": "[encoded data removed]",
      "text/plain": [
       "<Figure size 1200x800 with 1 Axes>"
      ]
     },
     "metadata": {},
     "output_type": "display_data"
    }
   ],
   "source": [
    "import seaborn as sns\n",
    "import matplotlib.pyplot as plt\n",
    "\n",
    "# Giả sử dataframe của bạn là new_cust với cột 'Product_Code' và 'Customer_ID'\n",
    "plt.figure(figsize=(12, 8))\n",
    "\n",
    "# Vẽ biểu đồ cột số lượng khách hàng theo mã sản phẩm\n",
    "sns.countplot(x='Product_group', data=new_cust)\n",
    "\n",
    "# Thêm tiêu đề và nhãn cho trục\n",
    "plt.title('New Customers - Count by Product Code')\n",
    "plt.xlabel('Product Group')\n",
    "plt.ylabel('Number of New Customers')\n",
    "\n",
    "# Xoay nhãn trục x để dễ đọc nếu mã sản phẩm dài\n",
    "plt.xticks(rotation=45)\n",
    "\n",
    "plt.show()\n"
   ]
  },
  {
   "cell_type": "markdown",
   "metadata": {},
   "source": [
    "Old Customer"
   ]
  },
  {
   "cell_type": "code",
   "execution_count": 100,
   "metadata": {},
   "outputs": [
    {
     "data": {
      "image/png": "[encoded data removed]",
      "text/plain": [
       "<Figure size 1200x800 with 1 Axes>"
      ]
     },
     "metadata": {},
     "output_type": "display_data"
    }
   ],
   "source": [
    "import seaborn as sns\n",
    "import matplotlib.pyplot as plt\n",
    "\n",
    "# Giả sử dataframe của bạn là new_cust với cột 'Product_Code' và 'Customer_ID'\n",
    "plt.figure(figsize=(12, 8))\n",
    "\n",
    "# Vẽ biểu đồ cột số lượng khách hàng theo mã sản phẩm\n",
    "sns.countplot(x='Product_group', data=old_cust)\n",
    "\n",
    "# Thêm tiêu đề và nhãn cho trục\n",
    "plt.title('Old Customers - Count by Product Code')\n",
    "plt.xlabel('Product Group')\n",
    "plt.ylabel('Number of New Customers')\n",
    "\n",
    "# Xoay nhãn trục x để dễ đọc nếu mã sản phẩm dài\n",
    "plt.xticks(rotation=45)\n",
    "\n",
    "plt.show()"
   ]
  },
  {
   "cell_type": "markdown",
   "metadata": {},
   "source": [
    "4. RFM Analysis Scatter Plots"
   ]
  },
  {
   "cell_type": "markdown",
   "metadata": {},
   "source": [
    "Recency vs Monetary"
   ]
  },
  {
   "cell_type": "code",
   "execution_count": 103,
   "metadata": {},
   "outputs": [
    {
     "data": {
      "text/plain": [
       "<Figure size 800x700 with 0 Axes>"
      ]
     },
     "metadata": {},
     "output_type": "display_data"
    },
    {
     "data": {
      "image/png": "[encoded data removed]",
      "text/plain": [
       "<Figure size 640x480 with 1 Axes>"
      ]
     },
     "metadata": {},
     "output_type": "display_data"
    }
   ],
   "source": [
    "plt.figure(figsize=(8,7))\n",
    "TCM2_Tsgroup_rfm.plot.scatter(x='recency' , y='monetary')\n",
    "plt.xlabel('Recency')\n",
    "plt.ylabel('Monetary (đ)')\n",
    "plt.title('Recency vs Monetary')\n",
    "plt.show()"
   ]
  },
  {
   "cell_type": "markdown",
   "metadata": {},
   "source": [
    "Frequency vs Monetary"
   ]
  },
  {
   "cell_type": "code",
   "execution_count": 106,
   "metadata": {},
   "outputs": [
    {
     "data": {
      "text/plain": [
       "<Figure size 800x700 with 0 Axes>"
      ]
     },
     "metadata": {},
     "output_type": "display_data"
    },
    {
     "data": {
      "image/png": "[encoded data removed]",
      "text/plain": [
       "<Figure size 640x480 with 1 Axes>"
      ]
     },
     "metadata": {},
     "output_type": "display_data"
    }
   ],
   "source": [
    "plt.figure(figsize=(8,7))\n",
    "TCM2_Tsgroup_rfm.plot.scatter(x='frequency' , y='monetary')\n",
    "plt.xlabel('Frequency')\n",
    "plt.ylabel('Monetary (đ)')\n",
    "plt.title('Frequency vs Monetary')\n",
    "plt.show()"
   ]
  },
  {
   "cell_type": "markdown",
   "metadata": {},
   "source": [
    "5. Customer Segment Distribution"
   ]
  },
  {
   "cell_type": "markdown",
   "metadata": {},
   "source": [
    "#Finally we can plot the Number of Customers present under a Customer Segment\n",
    "#Cuối cùng, chúng ta có thể biểu đồ Số lượng khách hàng hiện diện trong một Phân khúc khách hàng"
   ]
  },
  {
   "cell_type": "code",
   "execution_count": 107,
   "metadata": {},
   "outputs": [],
   "source": [
    "# Calculating the number of unique customers under a customer title.\n",
    "\n",
    "cust_per_title = TCM2_Tsgroup_rfm[['detail_cust_title', 'Customer_code','rank']].drop_duplicates().groupby(\n",
    "    ['detail_cust_title','rank']).size().reset_index().sort_values('rank')"
   ]
  },
  {
   "cell_type": "code",
   "execution_count": 108,
   "metadata": {},
   "outputs": [
    {
     "data": {
      "text/html": [
       "<div>\n",
       "<style scoped>\n",
       "    .dataframe tbody tr th:only-of-type {\n",
       "        vertical-align: middle;\n",
       "    }\n",
       "\n",
       "    .dataframe tbody tr th {\n",
       "        vertical-align: top;\n",
       "    }\n",
       "\n",
       "    .dataframe thead th {\n",
       "        text-align: right;\n",
       "    }\n",
       "</style>\n",
       "<table border=\"1\" class=\"dataframe\">\n",
       "  <thead>\n",
       "    <tr style=\"text-align: right;\">\n",
       "      <th></th>\n",
       "      <th>detail_cust_title</th>\n",
       "      <th>rank</th>\n",
       "      <th>Number of Customers</th>\n",
       "    </tr>\n",
       "  </thead>\n",
       "  <tbody>\n",
       "    <tr>\n",
       "      <th>6</th>\n",
       "      <td>Platinum Customer</td>\n",
       "      <td>1</td>\n",
       "      <td>1</td>\n",
       "    </tr>\n",
       "    <tr>\n",
       "      <th>9</th>\n",
       "      <td>Very Loyal</td>\n",
       "      <td>2</td>\n",
       "      <td>20</td>\n",
       "    </tr>\n",
       "    <tr>\n",
       "      <th>1</th>\n",
       "      <td>Becoming Loyal</td>\n",
       "      <td>3</td>\n",
       "      <td>359</td>\n",
       "    </tr>\n",
       "    <tr>\n",
       "      <th>8</th>\n",
       "      <td>Recent Customer</td>\n",
       "      <td>4</td>\n",
       "      <td>2835</td>\n",
       "    </tr>\n",
       "    <tr>\n",
       "      <th>7</th>\n",
       "      <td>Potential Customer</td>\n",
       "      <td>5</td>\n",
       "      <td>3</td>\n",
       "    </tr>\n",
       "    <tr>\n",
       "      <th>4</th>\n",
       "      <td>Late Bloomer</td>\n",
       "      <td>6</td>\n",
       "      <td>1803</td>\n",
       "    </tr>\n",
       "    <tr>\n",
       "      <th>3</th>\n",
       "      <td>High Risk Customer</td>\n",
       "      <td>8</td>\n",
       "      <td>38</td>\n",
       "    </tr>\n",
       "    <tr>\n",
       "      <th>0</th>\n",
       "      <td>Almost Lost Customer</td>\n",
       "      <td>9</td>\n",
       "      <td>510</td>\n",
       "    </tr>\n",
       "    <tr>\n",
       "      <th>2</th>\n",
       "      <td>Evasive Customer</td>\n",
       "      <td>10</td>\n",
       "      <td>104</td>\n",
       "    </tr>\n",
       "    <tr>\n",
       "      <th>5</th>\n",
       "      <td>Lost Customer</td>\n",
       "      <td>11</td>\n",
       "      <td>1793</td>\n",
       "    </tr>\n",
       "  </tbody>\n",
       "</table>\n",
       "</div>"
      ],
      "text/plain": [
       "      detail_cust_title  rank  Number of Customers\n",
       "6     Platinum Customer     1                    1\n",
       "9            Very Loyal     2                   20\n",
       "1        Becoming Loyal     3                  359\n",
       "8       Recent Customer     4                 2835\n",
       "7    Potential Customer     5                    3\n",
       "4          Late Bloomer     6                 1803\n",
       "3    High Risk Customer     8                   38\n",
       "0  Almost Lost Customer     9                  510\n",
       "2      Evasive Customer    10                  104\n",
       "5         Lost Customer    11                 1793"
      ]
     },
     "execution_count": 108,
     "metadata": {},
     "output_type": "execute_result"
    }
   ],
   "source": [
    "cust_per_title.rename(columns={0:'Number of Customers'}, inplace=True)\n",
    "cust_per_title"
   ]
  },
  {
   "cell_type": "code",
   "execution_count": 109,
   "metadata": {},
   "outputs": [
    {
     "data": {
      "image/png": "[encoded data removed]",
      "text/plain": [
       "<Figure size 1500x800 with 1 Axes>"
      ]
     },
     "metadata": {},
     "output_type": "display_data"
    }
   ],
   "source": [
    "# Plotting the Number of Customers\n",
    "\n",
    "plt.figure(figsize=(15,8))\n",
    "sns.barplot(y='detail_cust_title' , x='Number of Customers', data=cust_per_title)\n",
    "plt.xlabel('Number of Customers')\n",
    "plt.ylabel('Customer Segment')\n",
    "plt.title('Number of Customers by Customer Segment')\n",
    "plt.show()"
   ]
  },
  {
   "cell_type": "code",
   "execution_count": null,
   "metadata": {},
   "outputs": [],
   "source": []
  }
 ],
 "metadata": {
  "kernelspec": {
   "display_name": "base",
   "language": "python",
   "name": "python3"
  },
  "language_info": {
   "codemirror_mode": {
    "name": "ipython",
    "version": 3
   },
   "file_extension": ".py",
   "mimetype": "text/x-python",
   "name": "python",
   "nbconvert_exporter": "python",
   "pygments_lexer": "ipython3",
   "version": "3.12.4"
  }
 },
 "nbformat": 4,
 "nbformat_minor": 2
}
